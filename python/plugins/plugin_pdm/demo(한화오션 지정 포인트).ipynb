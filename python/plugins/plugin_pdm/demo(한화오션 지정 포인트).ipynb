{
 "cells": [
  {
   "cell_type": "code",
   "execution_count": null,
   "id": "1141eb23",
   "metadata": {},
   "outputs": [],
   "source": [
    "import pandas as pd\n",
    "import os"
   ]
  },
  {
   "cell_type": "code",
   "execution_count": null,
   "id": "55c7e19d",
   "metadata": {},
   "outputs": [],
   "source": [
    "%load_ext autoreload\n",
    "%autoreload 2\n",
    "from EndEffectorPoseOptimizer import *\n",
    "from JupyterVisualizer import  *"
   ]
  },
  {
   "cell_type": "markdown",
   "id": "d0d510e9",
   "metadata": {},
   "source": [
    "# 0. 매개변수 및 클래스 초기화"
   ]
  },
  {
   "cell_type": "code",
   "execution_count": null,
   "id": "0fae6549",
   "metadata": {},
   "outputs": [],
   "source": [
    "DEBUG_MODE = True"
   ]
  },
  {
   "cell_type": "code",
   "execution_count": null,
   "id": "dbec94b3",
   "metadata": {},
   "outputs": [],
   "source": [
    "optimizer = EndEffectorPoseOptimizer(DEBUG_MODE)"
   ]
  },
  {
   "cell_type": "markdown",
   "id": "9804722f",
   "metadata": {},
   "source": [
    "# 1. 데이터 로드"
   ]
  },
  {
   "cell_type": "markdown",
   "id": "ccc5ea14",
   "metadata": {},
   "source": [
    "### 1.1. 스캔 데이터 로드"
   ]
  },
  {
   "cell_type": "code",
   "execution_count": null,
   "id": "f239f5eb",
   "metadata": {},
   "outputs": [],
   "source": [
    "# optimizer.load_scan_data('./data/PIPE NO.1_fill.ply')\n",
    "# optimizer.load_scan_data('./data/PIPE NO.2_fill.ply')\n",
    "optimizer.load_scan_data('./data/PIPE NO.3_fill.ply')"
   ]
  },
  {
   "cell_type": "markdown",
   "id": "e8a51a60",
   "metadata": {},
   "source": [
    "### 1.2. 검사 대상 좌표 로드"
   ]
  },
  {
   "cell_type": "code",
   "execution_count": null,
   "id": "7934635f",
   "metadata": {},
   "outputs": [],
   "source": [
    "df = pd.read_csv('./data/PIPE NO.3_fill_testpoint.csv')\n",
    "df"
   ]
  },
  {
   "cell_type": "code",
   "execution_count": null,
   "id": "5e2e23db",
   "metadata": {},
   "outputs": [],
   "source": [
    "detection_points = []\n",
    "inspection_poinsts = []\n",
    "for idx, row in df.iterrows():\n",
    "    inspection_point = (float(row['x']), float(row['y']), float(row['z']))\n",
    "    detection_point = (\n",
    "        float(row['x'] + row['dx']),\n",
    "        float(row['y'] + row['dy']),\n",
    "        float(row['z'] + row['dz'])\n",
    "    )\n",
    "    detection_points.append(detection_point)\n",
    "    inspection_poinsts.append(inspection_point)"
   ]
  },
  {
   "cell_type": "code",
   "execution_count": null,
   "id": "67e03b7d",
   "metadata": {},
   "outputs": [],
   "source": [
    "pl = visualize_pointclouds_simply(optimizer._scan_data, bg_color='white')\n",
    "radius = 0.005\n",
    "for i in range(len(detection_points)):\n",
    "    if detection_points[i] == inspection_poinsts[i]:\n",
    "        add_sphere(pl, inspection_poinsts[i], radius=radius, color='green')\n",
    "    else:\n",
    "        add_sphere(pl, inspection_poinsts[i], radius=radius, color='red')\n",
    "        add_sphere(pl, detection_points[i], radius=radius, color='blue')\n",
    "\n",
    "    pl.add_point_labels([inspection_poinsts[i]], [str(i+1)], font_size=20, point_color='black', text_color='black', always_visible=True)\n",
    "\n",
    "    "
   ]
  },
  {
   "cell_type": "markdown",
   "id": "4f62cab9",
   "metadata": {},
   "source": [
    "### 1.2. 엔드이펙터 로드"
   ]
  },
  {
   "cell_type": "code",
   "execution_count": null,
   "id": "9e593818",
   "metadata": {},
   "outputs": [],
   "source": [
    "optimizer.load_DDA_from_urdf('./data/robot_models v1.5/robots/rb10_1300e_DDA.urdf')\n",
    "dda_mesh = optimizer._EndEffectorPoseOptimizer__dda_mesh # type: ignore\n",
    "optimizer.load_RT_from_urdf('./data/robot_models v1.5/robots/rb10_1300e_RT.urdf')\n",
    "rt_mesh = optimizer._EndEffectorPoseOptimizer__rt_mesh # type: ignore"
   ]
  },
  {
   "cell_type": "markdown",
   "id": "2a2fc227",
   "metadata": {},
   "source": [
    "### DDA 가시화"
   ]
  },
  {
   "cell_type": "code",
   "execution_count": null,
   "id": "46163088",
   "metadata": {},
   "outputs": [],
   "source": [
    "pl = visualize_mesh(dda_mesh, color='blue', bg_color='white') # type: ignore\n",
    "add_coordinate_frame(pl, length=0.1, size=0.02)"
   ]
  },
  {
   "cell_type": "code",
   "execution_count": null,
   "id": "e46da5d4",
   "metadata": {},
   "outputs": [],
   "source": [
    "pl=visualize_mesh(rt_mesh, color='blue', bg_color='white') # type: ignore\n",
    "add_coordinate_frame(pl, length=0.1, size=0.02)"
   ]
  },
  {
   "cell_type": "markdown",
   "id": "c61d4527",
   "metadata": {},
   "source": [
    "# 2. 검사 대상 지점 선택"
   ]
  },
  {
   "cell_type": "markdown",
   "id": "bc08c829",
   "metadata": {},
   "source": [
    "### 2.1. 탐지모드 좌표 선택\n",
    "- 인덱스 입력"
   ]
  },
  {
   "cell_type": "code",
   "execution_count": null,
   "id": "d3970fc7",
   "metadata": {},
   "outputs": [],
   "source": [
    "INSPECTION_POINT_INDEX = 12\n",
    "INSPECTION_POINT_INDEX -= 1"
   ]
  },
  {
   "cell_type": "code",
   "execution_count": null,
   "id": "2d85e9ca",
   "metadata": {},
   "outputs": [],
   "source": [
    "# 관심 대상 주변 점군만 추출\n",
    "center = np.array(detection_points[INSPECTION_POINT_INDEX])\n",
    "min_b = center - 0.3\n",
    "max_b = center + 0.3\n",
    "bbox = o3d.geometry.AxisAlignedBoundingBox(min_bound=min_b, max_bound=max_b) # type: ignore\n",
    "cropped_scan_data = optimizer._scan_data.crop(bbox)"
   ]
  },
  {
   "cell_type": "code",
   "execution_count": null,
   "id": "3fe577f9",
   "metadata": {},
   "outputs": [],
   "source": [
    "pl = visualize_pointclouds_simply(cropped_scan_data, bg_color='white')\n",
    "pl.add_point_labels([inspection_poinsts[INSPECTION_POINT_INDEX]], [str(INSPECTION_POINT_INDEX+1)], font_size=20, point_color='black', text_color='black', always_visible=True)\n",
    "if detection_points[INSPECTION_POINT_INDEX] == inspection_poinsts[INSPECTION_POINT_INDEX]:\n",
    "    add_sphere(pl, inspection_poinsts[INSPECTION_POINT_INDEX], radius=radius, color='green')\n",
    "else:\n",
    "    add_sphere(pl, inspection_poinsts[INSPECTION_POINT_INDEX], radius=radius, color='red')\n",
    "    add_sphere(pl, detection_points[INSPECTION_POINT_INDEX], radius=radius, color='blue')\n"
   ]
  },
  {
   "cell_type": "markdown",
   "id": "f400f4d0",
   "metadata": {},
   "source": [
    "# 3. 배관 프로파일 계산"
   ]
  },
  {
   "cell_type": "code",
   "execution_count": null,
   "id": "d15784d4",
   "metadata": {},
   "outputs": [],
   "source": [
    "optimizer.calculate_pipe_profile(detection_points[INSPECTION_POINT_INDEX]) # type: ignore\n",
    "\n",
    "center = optimizer._EndEffectorPoseOptimizer__pipe_center # type: ignore\n",
    "direction = optimizer._EndEffectorPoseOptimizer__pipe_direction # type: ignore\n",
    "radius = optimizer._EndEffectorPoseOptimizer__pipe_radius # type: ignore\n",
    "\n",
    "pl = visualize_pointclouds_simply(cropped_scan_data, bg_color='white')\n",
    "pl.add_arrows(center, direction, 0.1, color=\"red\") # type: ignore\n",
    "add_cylinder(\n",
    "    pl, # type: ignore\n",
    "    center,\n",
    "    direction,\n",
    "    radius + 0.003,\n",
    "    0.05,\n",
    "    \"blue\",\n",
    "    0.3,\n",
    ")\n",
    "\n",
    "pl.set_focus(detection_points[INSPECTION_POINT_INDEX]) #type: ignore\n",
    "pl.camera.zoom(2) # type: ignore\n"
   ]
  },
  {
   "cell_type": "code",
   "execution_count": null,
   "id": "8703b287",
   "metadata": {},
   "outputs": [],
   "source": [
    "if DEBUG_MODE:\n",
    "    sampleing_box = optimizer.debuging_info.get(\"sampling_box\")\n",
    "    selected_points = optimizer.debuging_info.get(\"selected_points\")\n",
    "    normal_m = optimizer.debuging_info.get(\"normal_m\")\n",
    "    points_in_cylinder = optimizer.debuging_info.get(\"points_in_cylinder\")\n",
    "    estimated_center = optimizer.debuging_info.get(\"estimated_center\")\n",
    "    estimated_radius = optimizer.debuging_info.get(\"estimated_radius\")\n",
    "\n",
    "    pl = Plotter(shape=(2, 2))\n",
    "\n",
    "    # 법선 계산을 위해 추출할 영역 확인\n",
    "    if sampleing_box is not None:\n",
    "        pl.subplot(0, 0)\n",
    "        visualize_pointclouds_simply(cropped_scan_data, plotter=pl, bg_color='white')\n",
    "        add_box(pl, sampleing_box[0], sampleing_box[1], color=\"red\", opacity=0.3)\n",
    "\n",
    "\n",
    "    # 법선 계산을 위해 추출한 점 확인\n",
    "    if selected_points is not None:\n",
    "        pl.subplot(0, 1)\n",
    "        visualize_pointclouds_simply(cropped_scan_data, plotter=pl, bg_color='white')\n",
    "        add_points(pl, selected_points, 3)\n",
    "\n",
    "        # compute point 1 unit away from detection_points[INDEX] along normal_m\n",
    "        camera_position = np.array(detection_points[INSPECTION_POINT_INDEX]) + (normal_m / np.linalg.norm(normal_m)) * 5 # type: ignore\n",
    "\n",
    "        # 카메라 설정을 올바른 순서로 적용\n",
    "        pl.set_position(camera_position)\n",
    "        pl.set_viewup((1, 0, 0)) # type: ignore\n",
    "        pl.set_focus(detection_points[INSPECTION_POINT_INDEX])\n",
    "\n",
    "        # pl.camera.zoom(15)\n",
    "\n",
    "    # 직경 계산을 위체 추출한 점 확인\n",
    "    if points_in_cylinder is not None:\n",
    "        pl.subplot(1, 0)\n",
    "\n",
    "        visualize_pointclouds_simply(cropped_scan_data, plotter=pl, bg_color='white')\n",
    "        points_pc = PointCloud()\n",
    "        points_pc.points = Vector3dVector(points_in_cylinder)\n",
    "        add_points(pl, points_pc, 3)\n",
    "        pl.set_focus(detection_points[INSPECTION_POINT_INDEX])\n",
    "        # pl.camera.zoom(2)\n",
    "\n",
    "    # 구체 샘플링 범위 확인\n",
    "    if normal_m is not None and estimated_center is not None and estimated_radius is not None:\n",
    "        pl.subplot(1, 1)\n",
    "        visualize_pointclouds_simply(cropped_scan_data, plotter=pl, bg_color='white')\n",
    "        add_sphere(pl, estimated_center, radius=estimated_radius + 0.003, color=\"red\", opacity=0.3)\n",
    "        pl.set_focus(estimated_center)\n",
    "        # pl.camera.zoom(20)\n",
    "\n",
    "    pl.show()"
   ]
  },
  {
   "cell_type": "code",
   "execution_count": null,
   "id": "19b0758c",
   "metadata": {},
   "outputs": [],
   "source": [
    "selected_points"
   ]
  },
  {
   "cell_type": "markdown",
   "id": "9d439a1d",
   "metadata": {},
   "source": [
    "# 4. 엔드이펙터 위치 결정(탐색)"
   ]
  },
  {
   "cell_type": "code",
   "execution_count": null,
   "id": "08ddf06c",
   "metadata": {},
   "outputs": [],
   "source": [
    "dda_tcp_candidates_filtered_json, dda_tcp_pose_candidates_filtered, dda_tcp_pose_candidates = (\n",
    "    optimizer.calculate_DDA_pose_for_detecting_welding_point(\n",
    "        detection_points[INSPECTION_POINT_INDEX],\n",
    "        8,\n",
    "        0.2,\n",
    "    )\n",
    ")"
   ]
  },
  {
   "cell_type": "markdown",
   "id": "780ddf51",
   "metadata": {},
   "source": [
    "### 위치 후보 가시화(화살표만)"
   ]
  },
  {
   "cell_type": "code",
   "execution_count": null,
   "id": "281c2fa2",
   "metadata": {},
   "outputs": [],
   "source": [
    "arrows= calculate_arrows_from_pose_candidates(dda_tcp_pose_candidates)\n",
    "pl = visualize_pointclouds_simply(cropped_scan_data, bg_color='white')\n",
    "_=pl.add_arrows(arrows[..., 0:3], arrows[..., 3:6], 0.1, color=\"red\") #type: ignore"
   ]
  },
  {
   "cell_type": "markdown",
   "id": "d8395f57",
   "metadata": {},
   "source": [
    "### 위치 후보 가시화(모델+방향)"
   ]
  },
  {
   "cell_type": "code",
   "execution_count": null,
   "id": "a1b3b35d",
   "metadata": {},
   "outputs": [],
   "source": [
    "arrows= calculate_arrows_from_pose_candidates(dda_tcp_pose_candidates)\n",
    "pl = visualize_pointclouds_simply(cropped_scan_data, bg_color='white')\n",
    "_=pl.add_arrows(arrows[..., 0:3], arrows[..., 3:6], 0.1, color=\"red\") #type: ignore\n",
    "\n",
    "for dda_tcp_pose in dda_tcp_pose_candidates:\n",
    "    rot = R.from_euler(\"xyz\", dda_tcp_pose[3:]).as_matrix()\n",
    "    dda_tcp_pose_T = np.eye(4)\n",
    "    dda_tcp_pose_T[:3, :3] = rot\n",
    "    dda_tcp_pose_T[:3,  3] = dda_tcp_pose[:3]\n",
    "\n",
    "    tcp_to_dda = optimizer._EndEffectorPoseOptimizer__dda_invers_transform_mat # type: ignore\n",
    "    dda_pose_T = dda_tcp_pose_T @ tcp_to_dda\n",
    "\n",
    "    add_mesh(pl, dda_mesh, dda_pose_T, color=\"blue\") # type: ignore\n",
    "\n",
    "pl.set_focus(detection_points[INSPECTION_POINT_INDEX]) #type: ignore"
   ]
  },
  {
   "cell_type": "markdown",
   "id": "44acbb62",
   "metadata": {},
   "source": [
    "### 위치 후보 가시화(배관과 충돌하는 자세 제외)"
   ]
  },
  {
   "cell_type": "code",
   "execution_count": null,
   "id": "8b99a2f1",
   "metadata": {},
   "outputs": [],
   "source": [
    "arrows= calculate_arrows_from_pose_candidates(dda_tcp_pose_candidates_filtered)\n",
    "pl = visualize_pointclouds_simply(cropped_scan_data, bg_color='white')\n",
    "_=pl.add_arrows(arrows[..., 0:3], arrows[..., 3:6], 0.1, color=\"red\") #type: ignore\n",
    "\n",
    "for dda_tcp_pose in dda_tcp_pose_candidates_filtered:\n",
    "    rot = R.from_euler(\"xyz\", dda_tcp_pose[3:]).as_matrix()\n",
    "    dda_tcp_pose_T = np.eye(4)\n",
    "    dda_tcp_pose_T[:3, :3] = rot\n",
    "    dda_tcp_pose_T[:3,  3] = dda_tcp_pose[:3]\n",
    "\n",
    "    tcp_to_dda = optimizer._EndEffectorPoseOptimizer__dda_invers_transform_mat # type: ignore\n",
    "    dda_pose_T = dda_tcp_pose_T @ tcp_to_dda\n",
    "\n",
    "    add_mesh(pl, dda_mesh, dda_pose_T, color=\"blue\") # type: ignore\n",
    "\n",
    "pl.set_focus(detection_points[INSPECTION_POINT_INDEX]) #type: ignore"
   ]
  },
  {
   "cell_type": "markdown",
   "id": "b4e912cd",
   "metadata": {},
   "source": [
    "# 5. 엔드이펙터 위치 결정(검사)"
   ]
  },
  {
   "cell_type": "code",
   "execution_count": null,
   "id": "08f981f0",
   "metadata": {},
   "outputs": [],
   "source": [
    "json_str, dda_rt_pairs= optimizer.calculate_DDA_RT_pose_for_taking_xray(\n",
    "    inspection_poinsts[INSPECTION_POINT_INDEX],\n",
    "    8,\n",
    "    0.01,\n",
    "    0.3,\n",
    "    10,\n",
    ")"
   ]
  },
  {
   "cell_type": "code",
   "execution_count": null,
   "id": "4886c7bd",
   "metadata": {},
   "outputs": [],
   "source": [
    "dda_rt_pairs"
   ]
  },
  {
   "cell_type": "markdown",
   "id": "bf66ca1f",
   "metadata": {},
   "source": [
    "### DDA 자세 후보 가시화(충돌 제외)"
   ]
  },
  {
   "cell_type": "code",
   "execution_count": null,
   "id": "de515ba5",
   "metadata": {},
   "outputs": [],
   "source": [
    "# Visualize point cloud and DDA with applied pose\n",
    "# Visualize point cloud and multiple DDA meshes from dda_poses\n",
    "pl = visualize_pointclouds_simply(cropped_scan_data, bg_color='white')\n",
    "\n",
    "for pair in dda_rt_pairs:\n",
    "    pose = pair[\"0\"]['DDA']\n",
    "    rot = R.from_euler(\"xyz\", pose[3:]).as_matrix()\n",
    "    dda_tcp_pose_T = np.eye(4)\n",
    "    dda_tcp_pose_T[:3, :3] = rot\n",
    "    dda_tcp_pose_T[:3, 3] = pose[:3]\n",
    "\n",
    "    tcp_to_dda = optimizer._EndEffectorPoseOptimizer__dda_invers_transform_mat  # type: ignore\n",
    "    dda_pose_T = dda_tcp_pose_T @ tcp_to_dda\n",
    "\n",
    "    add_mesh(pl, dda_mesh, dda_pose_T, color='blue')  # type: ignore\n",
    "\n",
    "pl.set_focus(detection_points[INSPECTION_POINT_INDEX])"
   ]
  },
  {
   "cell_type": "code",
   "execution_count": null,
   "id": "7b1200b0",
   "metadata": {},
   "outputs": [],
   "source": [
    "def vis_inspection_points(pl, inspection_points, detection_points, radius=0.005):\n",
    "    for i in range(len(detection_points)):\n",
    "        if detection_points[i] == inspection_points[i]:\n",
    "            add_sphere(pl, inspection_points[i], radius=radius, color='green')\n",
    "        else:\n",
    "            add_sphere(pl, inspection_points[i], radius=radius, color='red')\n",
    "            add_sphere(pl, detection_points[i], radius=radius, color='blue')\n",
    "\n",
    "        pl.add_point_labels([inspection_points[i]], [str(i + 1)], font_size=20, point_color='black', text_color='black', always_visible=True)\n",
    "\n",
    "def vis_tcp_x_axis(pl:Plotter, dda_rt_pair:dict[str, np.ndarray], mag=0.15, color:str|tuple='red'):\n",
    "    dda_pose = dda_rt_pair['DDA']\n",
    "    rt_pose = dda_rt_pair['RT1'] if 'RT1' in dda_rt_pair else dda_rt_pair['RT2']\n",
    "\n",
    "    arrows = calculate_arrows_from_pose_candidates(np.vstack([dda_pose, rt_pose]))\n",
    "    _ = pl.add_arrows(arrows[..., 0:3], arrows[..., 3:6], mag, color=color)\n",
    "\n",
    "def vis_end_effector_mesh(pl:Plotter, dda_rt_pair:dict[str, np.ndarray], optimizer:EndEffectorPoseOptimizer, color:str|tuple='gray'):\n",
    "    dda_pose = dda_rt_pair['DDA']\n",
    "    rot = R.from_euler(\"xyz\", dda_pose[3:]).as_matrix()\n",
    "    dda_tcp_pose_T = np.eye(4)\n",
    "    dda_tcp_pose_T[:3, :3] = rot\n",
    "    dda_tcp_pose_T[:3,  3] = dda_pose[:3]\n",
    "\n",
    "    tcp_to_dda = optimizer._EndEffectorPoseOptimizer__dda_invers_transform_mat # type: ignore\n",
    "    dda_pose_T = dda_tcp_pose_T @ tcp_to_dda\n",
    "\n",
    "    add_mesh(pl, optimizer._EndEffectorPoseOptimizer__dda_mesh, dda_pose_T, color=color) # type: ignore\n",
    "\n",
    "    rt_pose = dda_rt_pair['RT1'] if 'RT1' in dda_rt_pair else dda_rt_pair['RT2']\n",
    "    rot = R.from_euler(\"xyz\", rt_pose[3:]).as_matrix()\n",
    "    rt_tcp_pose_T = np.eye(4)\n",
    "    rt_tcp_pose_T[:3, :3] = rot\n",
    "    rt_tcp_pose_T[:3,  3] = rt_pose[:3]\n",
    "\n",
    "    tcp_to_rt = optimizer._EndEffectorPoseOptimizer__rt_invers_transform_mat # type: ignore\n",
    "    rt_pose_T = rt_tcp_pose_T @ tcp_to_rt\n",
    "\n",
    "    add_mesh(pl, optimizer._EndEffectorPoseOptimizer__rt_mesh, rt_pose_T, color=color) # type: ignore"
   ]
  },
  {
   "cell_type": "code",
   "execution_count": null,
   "id": "1ea8ce44",
   "metadata": {},
   "outputs": [],
   "source": [
    "PAIR_IDX = 0\n",
    "GRID_ROW = 3\n",
    "GRID_COL = 4\n",
    "\n",
    "pl = Plotter(shape=(GRID_ROW, GRID_COL), window_size=[1800, 1100])\n",
    "pl.show_axes_all()\n",
    "\n",
    "# 스캔 데이터 및 검사 지점 가시화=======================================================================\n",
    "for row in range(GRID_ROW):\n",
    "    for col in range(GRID_COL):\n",
    "        pl.subplot(row, col)\n",
    "        visualize_pointclouds_simply(cropped_scan_data, plotter=pl, bg_color='white')\n",
    "        pl.add_point_labels([inspection_poinsts[INSPECTION_POINT_INDEX]], [str(INSPECTION_POINT_INDEX+1)], font_size=20, point_color='black', text_color='black', always_visible=True)\n",
    "\n",
    "# 엔드 이펙터 기본 위치 가시화==========================================================================\n",
    "for col in range(GRID_COL):\n",
    "    color = (255, 150, 150)\n",
    "    # 개별 가시화-----------------------------------------------------------------\n",
    "    pl.subplot(0, col)\n",
    "    # vis_end_effector_mesh(pl, dda_rt_pairs[PAIR_IDX]['0'], optimizer, color='gray')\n",
    "    vis_end_effector_mesh(pl, dda_rt_pairs[PAIR_IDX]['0'], optimizer, color=color)\n",
    "    vis_tcp_x_axis(pl, dda_rt_pairs[PAIR_IDX]['0'], mag=0.15)\n",
    "\n",
    "    # 통합 가시화-----------------------------------------------------------------\n",
    "    pl.subplot(2, col)\n",
    "    vis_end_effector_mesh(pl, dda_rt_pairs[PAIR_IDX]['0'], optimizer, color=color)\n",
    "    vis_tcp_x_axis(pl, dda_rt_pairs[PAIR_IDX]['0'], mag=0.15)\n",
    "\n",
    "# 엔드 이펙터 90도 회전 위치 가시화=====================================================================\n",
    "for col in range(GRID_COL):\n",
    "    color = (150, 150, 255)\n",
    "    # 개별 가시화-----------------------------------------------------------------\n",
    "    pl.subplot(1, col)\n",
    "    vis_end_effector_mesh(pl, dda_rt_pairs[PAIR_IDX]['90'], optimizer, color=color)\n",
    "    vis_tcp_x_axis(pl, dda_rt_pairs[PAIR_IDX]['90'], mag=0.15, color='blue')\n",
    "\n",
    "    # 통합 가시화-----------------------------------------------------------------\n",
    "    pl.subplot(2, col)\n",
    "    vis_end_effector_mesh(pl, dda_rt_pairs[PAIR_IDX]['90'], optimizer, color=color)\n",
    "    vis_tcp_x_axis(pl, dda_rt_pairs[PAIR_IDX]['90'], mag=0.15, color='blue')\n",
    "\n",
    "# 카메라 시점 설정====================================================================================\n",
    "for col in range(GRID_COL):\n",
    "    for row in range(GRID_ROW):\n",
    "        pl.subplot(row, col)\n",
    "\n",
    "        if col == 0:\n",
    "            pl.view_isometric() # type: ignore\n",
    "        elif col == 1:\n",
    "            pl.view_yz() # type: ignore\n",
    "        elif col == 2:\n",
    "            pl.view_xz() # type: ignore\n",
    "        elif col == 3:\n",
    "            pl.view_xy() # type: ignore\n",
    "\n",
    "pl.show()\n",
    "\n",
    "os.makedirs('./한화오션 지정 포인트 실험 결과', exist_ok=True)\n",
    "_ = pl.screenshot(f'./한화오션 지정 포인트 실험 결과/{INSPECTION_POINT_INDEX+1}.jpg')"
   ]
  },
  {
   "cell_type": "code",
   "execution_count": null,
   "id": "940e8824",
   "metadata": {},
   "outputs": [],
   "source": [
    "# PAIR_IDX = 0\n",
    "\n",
    "# # 점군 가시화\n",
    "# pl = visualize_pointclouds_simply(cropped_scan_data, bg_color='white')\n",
    "\n",
    "# # 검사 위치 가시화\n",
    "# radius = 0.005\n",
    "# if detection_points[INSPECTION_POINT_INDEX] == inspection_poinsts[INSPECTION_POINT_INDEX]:\n",
    "#     add_sphere(pl, inspection_poinsts[INSPECTION_POINT_INDEX], radius=radius, color='green')\n",
    "# else:\n",
    "#     add_sphere(pl, inspection_poinsts[INSPECTION_POINT_INDEX], radius=radius, color='red')\n",
    "#     add_sphere(pl, detection_points[INSPECTION_POINT_INDEX], radius=radius, color='blue')\n",
    "\n",
    "# pl.add_point_labels([inspection_poinsts[INSPECTION_POINT_INDEX]], [str(INSPECTION_POINT_INDEX+1)], font_size=20, point_color='black', text_color='black', always_visible=True)\n",
    "\n",
    "# # 엔드 이펙터 x축 가시화\n",
    "# arrows = calculate_arrows_from_pose_candidates(np.vstack([dda_poses[PAIR_IDX], rt_poses[PAIR_IDX]]))\n",
    "# _=pl.add_arrows(arrows[..., 0:3], arrows[..., 3:6], 0.15, color=\"red\")\n",
    "\n",
    "# # DDA 형상 가시화\n",
    "# rot = R.from_euler(\"xyz\", dda_poses[PAIR_IDX][3:]).as_matrix()\n",
    "# dda_tcp_pose_T = np.eye(4)\n",
    "# dda_tcp_pose_T[:3, :3] = rot\n",
    "# dda_tcp_pose_T[:3, 3] = dda_poses[PAIR_IDX][:3]\n",
    "# tcp_to_dda = optimizer._EndEffectorPoseOptimizer__dda_invers_transform_mat  # type: ignore\n",
    "# dda_pose_T = dda_tcp_pose_T @ tcp_to_dda\n",
    "# add_mesh(pl, dda_mesh, dda_pose_T, color='gray')  # type: ignore\n",
    "\n",
    "# # RT 형상 가시화\n",
    "# rot = R.from_euler(\"xyz\", rt_poses[PAIR_IDX][3:]).as_matrix()\n",
    "# rt_tcp_pose_T = np.eye(4)\n",
    "# rt_tcp_pose_T[:3, :3] = rot\n",
    "# rt_tcp_pose_T[:3, 3] = rt_poses[PAIR_IDX][:3]\n",
    "# tcp_to_rt = optimizer._EndEffectorPoseOptimizer__rt_invers_transform_mat  # type: ignore\n",
    "# rt_pose_T = rt_tcp_pose_T @ tcp_to_rt\n",
    "# add_mesh(pl, rt_mesh, rt_pose_T, color='gray')  # type: ignore\n",
    "\n",
    "# # 카메라 설정\n",
    "# pl.set_focus(detection_points[INSPECTION_POINT_INDEX])"
   ]
  }
 ],
 "metadata": {
  "kernelspec": {
   "display_name": ".venv (3.10.11)",
   "language": "python",
   "name": "python3"
  },
  "language_info": {
   "codemirror_mode": {
    "name": "ipython",
    "version": 3
   },
   "file_extension": ".py",
   "mimetype": "text/x-python",
   "name": "python",
   "nbconvert_exporter": "python",
   "pygments_lexer": "ipython3",
   "version": "3.10.11"
  }
 },
 "nbformat": 4,
 "nbformat_minor": 5
}
