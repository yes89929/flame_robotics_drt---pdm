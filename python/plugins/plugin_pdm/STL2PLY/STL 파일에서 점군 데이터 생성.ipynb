{
 "cells": [
  {
   "cell_type": "markdown",
   "id": "8c25a906",
   "metadata": {},
   "source": [
    "# 제어 변수"
   ]
  },
  {
   "cell_type": "code",
   "execution_count": 72,
   "id": "b84a2161",
   "metadata": {},
   "outputs": [],
   "source": [
    "ROOT_FOLDER_NAME = \"plugin_pdm\"\n",
    "DATA_FOLDER_DIR = \"data\"\n",
    "DATA_FILE_NAME = \"PIPE NO.2_fill.stl\"\n",
    "SAVE_EXT = \"ply\""
   ]
  },
  {
   "cell_type": "markdown",
   "id": "5bf0c9ce",
   "metadata": {},
   "source": [
    "# 상위 폴더 경로 추가"
   ]
  },
  {
   "cell_type": "code",
   "execution_count": 73,
   "id": "112c3122",
   "metadata": {},
   "outputs": [],
   "source": [
    "from pathlib import Path\n",
    "\n",
    "\n",
    "def find_relative_path_to_folder(target_folder_name):\n",
    "    # Traverse through parent directories\n",
    "    for i, parent in enumerate(Path.cwd().resolve().parents):\n",
    "        if parent.name == target_folder_name:\n",
    "            return Path(\"../\" * (i + 1)).resolve()\n",
    "    print(f\"Folder '{target_folder_name}' not found.\")\n",
    "    return None\n",
    "\n",
    "\n",
    "import sys\n",
    "\n",
    "ROOT_PATH = find_relative_path_to_folder(f\"{ROOT_FOLDER_NAME}\")\n",
    "if ROOT_PATH:\n",
    "    sys.path.append(str(ROOT_PATH))"
   ]
  },
  {
   "cell_type": "markdown",
   "id": "7f6963c5",
   "metadata": {},
   "source": [
    "# 필요 패키지 로드"
   ]
  },
  {
   "cell_type": "code",
   "execution_count": 74,
   "id": "d9d09a03",
   "metadata": {},
   "outputs": [],
   "source": [
    "from pathlib import Path"
   ]
  },
  {
   "cell_type": "code",
   "execution_count": 75,
   "id": "d496f2c0",
   "metadata": {},
   "outputs": [
    {
     "name": "stdout",
     "output_type": "stream",
     "text": [
      "The autoreload extension is already loaded. To reload it, use:\n",
      "  %reload_ext autoreload\n"
     ]
    }
   ],
   "source": [
    "%load_ext autoreload\n",
    "%autoreload 2\n",
    "from STL2PCD import STLPointCloudGenerator, MeshInfo\n",
    "from JupyterVisualizer import *"
   ]
  },
  {
   "cell_type": "markdown",
   "id": "181d4693",
   "metadata": {},
   "source": [
    "# STL 파일 가시화"
   ]
  },
  {
   "cell_type": "code",
   "execution_count": 76,
   "id": "60fbd46c",
   "metadata": {},
   "outputs": [
    {
     "data": {
      "text/plain": [
       "'C:\\\\Users\\\\yes89\\\\Insync\\\\source\\\\1_ongoing_project\\\\DRT\\\\flame_robotics_drt---pdm\\\\python\\\\plugins\\\\plugin_pdm/data/PIPE NO.2_fill.stl'"
      ]
     },
     "execution_count": 76,
     "metadata": {},
     "output_type": "execute_result"
    }
   ],
   "source": [
    "data_file_path = f'{ROOT_PATH}/{DATA_FOLDER_DIR}/{DATA_FILE_NAME}'\n",
    "data_file_path"
   ]
  },
  {
   "cell_type": "code",
   "execution_count": 77,
   "id": "d4a268f7",
   "metadata": {},
   "outputs": [
    {
     "data": {
      "application/vnd.jupyter.widget-view+json": {
       "model_id": "83673daf81604647a89f7d050e65fc56",
       "version_major": 2,
       "version_minor": 0
      },
      "text/plain": [
       "Widget(value='<iframe src=\"http://localhost:8866/index.html?ui=P_0x14624b5df90_16&reconnect=auto\" class=\"pyvis…"
      ]
     },
     "metadata": {},
     "output_type": "display_data"
    }
   ],
   "source": [
    "mesh = pv.read(data_file_path) # type: ignore\n",
    "mesh.scale([0.1]*3)\n",
    "pl = pv.Plotter()\n",
    "pl.add_mesh(mesh)\n",
    "pl.show()"
   ]
  },
  {
   "cell_type": "markdown",
   "id": "a43a1b28",
   "metadata": {},
   "source": [
    "# 점군 생성"
   ]
  },
  {
   "cell_type": "code",
   "execution_count": 78,
   "id": "d2b169cd",
   "metadata": {},
   "outputs": [],
   "source": [
    "converter = STLPointCloudGenerator()"
   ]
  },
  {
   "cell_type": "code",
   "execution_count": 79,
   "id": "6b5eb9a1",
   "metadata": {},
   "outputs": [],
   "source": [
    "converter.load_stl(data_file_path, 0.001)"
   ]
  },
  {
   "cell_type": "code",
   "execution_count": 80,
   "id": "0cc59409",
   "metadata": {},
   "outputs": [],
   "source": [
    "converter.sample_points(spacing_mm=0.0015, method='uniform')"
   ]
  },
  {
   "cell_type": "markdown",
   "id": "3cce4966",
   "metadata": {},
   "source": [
    "# 점군 가시화"
   ]
  },
  {
   "cell_type": "code",
   "execution_count": 81,
   "id": "41de6e72",
   "metadata": {},
   "outputs": [
    {
     "data": {
      "application/vnd.jupyter.widget-view+json": {
       "model_id": "4af0b1aff0e64207bbd72f6e87f32602",
       "version_major": 2,
       "version_minor": 0
      },
      "text/plain": [
       "Widget(value='<iframe src=\"http://localhost:8866/index.html?ui=P_0x14624b5ed70_17&reconnect=auto\" class=\"pyvis…"
      ]
     },
     "metadata": {},
     "output_type": "display_data"
    },
    {
     "data": {
      "text/plain": [
       "<pyvista.plotting.plotter.Plotter at 0x14624b5ed70>"
      ]
     },
     "execution_count": 81,
     "metadata": {},
     "output_type": "execute_result"
    }
   ],
   "source": [
    "visualize_pointclouds_simply(converter.get_point_cloud(), bg_color='white')"
   ]
  },
  {
   "cell_type": "markdown",
   "id": "5d557ea3",
   "metadata": {},
   "source": [
    "# 법선 가시화"
   ]
  },
  {
   "cell_type": "code",
   "execution_count": 82,
   "id": "77bbbbd1",
   "metadata": {},
   "outputs": [],
   "source": [
    "# visualize_pointclouds_simply(converter._pcd, 1, bg_color='white', visualize_normals=True)\n"
   ]
  },
  {
   "cell_type": "markdown",
   "id": "fb7d9e70",
   "metadata": {},
   "source": [
    "메시 가시화"
   ]
  },
  {
   "cell_type": "code",
   "execution_count": 83,
   "id": "0a3ec07e",
   "metadata": {},
   "outputs": [
    {
     "data": {
      "application/vnd.jupyter.widget-view+json": {
       "model_id": "9f497e4b5efe4c73adaa1a413dff6e60",
       "version_major": 2,
       "version_minor": 0
      },
      "text/plain": [
       "Widget(value='<iframe src=\"http://localhost:8866/index.html?ui=P_0x145b6b771f0_18&reconnect=auto\" class=\"pyvis…"
      ]
     },
     "metadata": {},
     "output_type": "display_data"
    },
    {
     "data": {
      "text/plain": [
       "<pyvista.plotting.plotter.Plotter at 0x145b6b771f0>"
      ]
     },
     "execution_count": 83,
     "metadata": {},
     "output_type": "execute_result"
    }
   ],
   "source": [
    "converter.construct_mesh_from_pcd('poisson')\n",
    "visualize_mesh(converter._mesh, bg_color='white')"
   ]
  },
  {
   "cell_type": "markdown",
   "id": "06ee93b8",
   "metadata": {},
   "source": [
    "# 저장"
   ]
  },
  {
   "cell_type": "code",
   "execution_count": 84,
   "id": "adfe9f4b",
   "metadata": {},
   "outputs": [
    {
     "data": {
      "text/plain": [
       "'C:\\\\Users\\\\yes89\\\\Insync\\\\source\\\\1_ongoing_project\\\\DRT\\\\flame_robotics_drt---pdm\\\\python\\\\plugins\\\\plugin_pdm/data/PIPE NO.2_fill_w_mesh.ply'"
      ]
     },
     "execution_count": 84,
     "metadata": {},
     "output_type": "execute_result"
    }
   ],
   "source": [
    "p = Path(DATA_FILE_NAME)\n",
    "data_file_name = f\"{p.stem}_w_mesh.{SAVE_EXT}\"\n",
    "data_file_path = f'{ROOT_PATH}/{DATA_FOLDER_DIR}/{data_file_name}'\n",
    "data_file_path"
   ]
  },
  {
   "cell_type": "code",
   "execution_count": 85,
   "id": "f9234c0b",
   "metadata": {},
   "outputs": [],
   "source": [
    "# converter.save_point_cloud(data_file_path,  True)"
   ]
  },
  {
   "cell_type": "code",
   "execution_count": 86,
   "id": "72dc2db3",
   "metadata": {},
   "outputs": [],
   "source": [
    "converter.save_mesh(data_file_path)"
   ]
  }
 ],
 "metadata": {
  "kernelspec": {
   "display_name": ".venv (3.10.11)",
   "language": "python",
   "name": "python3"
  },
  "language_info": {
   "codemirror_mode": {
    "name": "ipython",
    "version": 3
   },
   "file_extension": ".py",
   "mimetype": "text/x-python",
   "name": "python",
   "nbconvert_exporter": "python",
   "pygments_lexer": "ipython3",
   "version": "3.10.11"
  }
 },
 "nbformat": 4,
 "nbformat_minor": 5
}
