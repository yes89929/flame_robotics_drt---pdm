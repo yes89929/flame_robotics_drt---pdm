{
 "cells": [
  {
   "cell_type": "code",
   "execution_count": 56,
   "id": "f3ddd91d",
   "metadata": {},
   "outputs": [],
   "source": [
    "%matplotlib widget\n",
    "import open3d as o3d\n",
    "from open3d.cpu.pybind.geometry import PointCloud\n",
    "import numpy as np"
   ]
  },
  {
   "cell_type": "code",
   "execution_count": 57,
   "id": "55c7e19d",
   "metadata": {},
   "outputs": [
    {
     "name": "stdout",
     "output_type": "stream",
     "text": [
      "The autoreload extension is already loaded. To reload it, use:\n",
      "  %reload_ext autoreload\n"
     ]
    }
   ],
   "source": [
    "%load_ext autoreload\n",
    "%autoreload 2\n",
    "from EndEffectorPoseOptimizer import *\n",
    "from JupyterVisualizer import  *"
   ]
  },
  {
   "cell_type": "code",
   "execution_count": 58,
   "id": "dbec94b3",
   "metadata": {},
   "outputs": [],
   "source": [
    "optimizer = EndEffectorPoseOptimizer()"
   ]
  },
  {
   "cell_type": "markdown",
   "id": "9804722f",
   "metadata": {},
   "source": [
    "# 1. 스캔 데이터 선택"
   ]
  },
  {
   "cell_type": "markdown",
   "id": "ccc5ea14",
   "metadata": {},
   "source": [
    "### 1.1. 데이터 선택"
   ]
  },
  {
   "cell_type": "code",
   "execution_count": 59,
   "id": "f239f5eb",
   "metadata": {},
   "outputs": [],
   "source": [
    "optimizer.load_scan_data('./data/PIPE NO.1_fill.ply')\n",
    "# optimizer.load_scan_data('./data/PIPE NO.2_fill.ply')\n",
    "# optimizer.load_scan_data('./data/PIPE NO.3_fill.ply')"
   ]
  },
  {
   "cell_type": "markdown",
   "id": "c5db3f46",
   "metadata": {},
   "source": [
    "### 1.2. 선택된 스캔 데이터 가시화"
   ]
  },
  {
   "cell_type": "code",
   "execution_count": 60,
   "id": "6b93be64",
   "metadata": {},
   "outputs": [
    {
     "data": {
      "application/vnd.jupyter.widget-view+json": {
       "model_id": "0e1a9aa1f6bd40ef8a6a144a9fde07fc",
       "version_major": 2,
       "version_minor": 0
      },
      "text/plain": [
       "Widget(value='<iframe src=\"http://localhost:13320/index.html?ui=P_0x1dc9b58dea0_12&reconnect=auto\" class=\"pyvi…"
      ]
     },
     "metadata": {},
     "output_type": "display_data"
    },
    {
     "data": {
      "text/plain": [
       "<pyvista.plotting.plotter.Plotter at 0x1dc9b58dea0>"
      ]
     },
     "execution_count": 60,
     "metadata": {},
     "output_type": "execute_result"
    }
   ],
   "source": [
    "visualize_pointclouds_simply(optimizer._scan_data)"
   ]
  },
  {
   "cell_type": "markdown",
   "id": "c61d4527",
   "metadata": {},
   "source": [
    "# 2. 검사 대상 지점 선택"
   ]
  },
  {
   "cell_type": "markdown",
   "id": "bc08c829",
   "metadata": {},
   "source": [
    "### 2.1. 배관위 한 점 선택"
   ]
  },
  {
   "cell_type": "code",
   "execution_count": 61,
   "id": "d3970fc7",
   "metadata": {},
   "outputs": [
    {
     "data": {
      "application/vnd.jupyter.widget-view+json": {
       "model_id": "49339808796b48e7b59aee2367f6c11b",
       "version_major": 2,
       "version_minor": 0
      },
      "text/plain": [
       "Widget(value='<iframe src=\"http://localhost:13320/index.html?ui=P_0x1dcb85ad900_13&reconnect=auto\" class=\"pyvi…"
      ]
     },
     "metadata": {},
     "output_type": "display_data"
    },
    {
     "data": {
      "text/plain": [
       "None"
      ]
     },
     "metadata": {},
     "output_type": "display_data"
    },
    {
     "data": {
      "application/vnd.jupyter.widget-view+json": {
       "model_id": "d9d4ccea28324b3397aeb39dcea38c5f",
       "version_major": 2,
       "version_minor": 0
      },
      "text/plain": [
       "Textarea(value='', layout=Layout(height='80px', width='auto'))"
      ]
     },
     "metadata": {},
     "output_type": "display_data"
    }
   ],
   "source": [
    "pl = visualize_selectable_pointcloud(optimizer._scan_data)"
   ]
  },
  {
   "cell_type": "markdown",
   "id": "d36905a6",
   "metadata": {},
   "source": [
    "### 2.2. 선택된 점 인덱스 저장(수동)"
   ]
  },
  {
   "cell_type": "code",
   "execution_count": 62,
   "id": "a9cbc868",
   "metadata": {},
   "outputs": [],
   "source": [
    "target_point_idx = 303135"
   ]
  },
  {
   "cell_type": "markdown",
   "id": "be57a2a0",
   "metadata": {},
   "source": [
    "### 2.3. 검사 대상 점 가시화"
   ]
  },
  {
   "cell_type": "code",
   "execution_count": 63,
   "id": "49b2e234",
   "metadata": {},
   "outputs": [],
   "source": [
    "target_point = optimizer._scan_data.points[target_point_idx]"
   ]
  },
  {
   "cell_type": "code",
   "execution_count": 64,
   "id": "26d7ae05",
   "metadata": {},
   "outputs": [
    {
     "data": {
      "application/vnd.jupyter.widget-view+json": {
       "model_id": "b3e4870196e84834a6a5c9e9c54eb6d6",
       "version_major": 2,
       "version_minor": 0
      },
      "text/plain": [
       "Widget(value='<iframe src=\"http://localhost:13320/index.html?ui=P_0x1dc7ca16b90_14&reconnect=auto\" class=\"pyvi…"
      ]
     },
     "metadata": {},
     "output_type": "display_data"
    }
   ],
   "source": [
    "pl = visualize_pointclouds_simply(optimizer._scan_data)\n",
    "add_sphere(pl, target_point, radius=0.01, color=\"red\")"
   ]
  },
  {
   "cell_type": "markdown",
   "id": "f400f4d0",
   "metadata": {},
   "source": [
    "# 3. 배관 프로파일 계산\n",
    "- 배관 프로파일을 가시화하기 위한 코드\n",
    "- 실제 모듈에서는 엔드이펙터 위치 결정 함수만 사용하면 됨"
   ]
  },
  {
   "cell_type": "code",
   "execution_count": null,
   "id": "d15784d4",
   "metadata": {},
   "outputs": [
    {
     "data": {
      "application/vnd.jupyter.widget-view+json": {
       "model_id": "1e10a241ec6a466b9d381104cbc3fbe5",
       "version_major": 2,
       "version_minor": 0
      },
      "text/plain": [
       "Widget(value='<iframe src=\"http://localhost:13320/index.html?ui=P_0x1dcf55c9e40_17&reconnect=auto\" class=\"pyvi…"
      ]
     },
     "metadata": {},
     "output_type": "display_data"
    }
   ],
   "source": [
    "direction, center, radius= optimizer.__calculate_pipe_profile(target_point)\n",
    "\n",
    "pl = visualize_pointclouds_simply(optimizer._scan_data)\n",
    "pl.add_arrows(center, direction, 0.1, color=\"red\")\n",
    "add_cylinder(\n",
    "    pl,\n",
    "    center,\n",
    "    direction,\n",
    "    radius+0.1,\n",
    "    0.1,\n",
    "    \"blue\",\n",
    "    0.3,\n",
    ")"
   ]
  },
  {
   "cell_type": "markdown",
   "id": "9d439a1d",
   "metadata": {},
   "source": [
    "# 4. 엔드이펙터 위치 결정(탐색)"
   ]
  },
  {
   "cell_type": "code",
   "execution_count": null,
   "id": "312abd05",
   "metadata": {},
   "outputs": [
    {
     "data": {
      "text/plain": [
       "(36, 6)"
      ]
     },
     "execution_count": 66,
     "metadata": {},
     "output_type": "execute_result"
    }
   ],
   "source": [
    "pose_cantidates = optimizer.__calculate_dda_pose_candidate(\n",
    "    center,\n",
    "    direction,\n",
    "    radius+0.3,\n",
    "    36,\n",
    ")\n",
    "pose_cantidates.shape"
   ]
  },
  {
   "cell_type": "code",
   "execution_count": 67,
   "id": "281c2fa2",
   "metadata": {},
   "outputs": [
    {
     "data": {
      "application/vnd.jupyter.widget-view+json": {
       "model_id": "c4f3fa9f53a04828b5b428947c43157b",
       "version_major": 2,
       "version_minor": 0
      },
      "text/plain": [
       "Widget(value='<iframe src=\"http://localhost:13320/index.html?ui=P_0x1dc9b50d720_16&reconnect=auto\" class=\"pyvi…"
      ]
     },
     "metadata": {},
     "output_type": "display_data"
    },
    {
     "data": {
      "text/plain": [
       "Actor (0x1dcf560df60)\n",
       "  Center:                     (0.0018175095319747925, -0.8199321031570435, 5.3241848945617676e-05)\n",
       "  Pickable:                   True\n",
       "  Position:                   (0.0, 0.0, 0.0)\n",
       "  Scale:                      (1.0, 1.0, 1.0)\n",
       "  Visible:                    True\n",
       "  X Bounds                    -3.353E-01, 3.389E-01\n",
       "  Y Bounds                    -8.468E-01, -7.931E-01\n",
       "  Z Bounds                    -3.375E-01, 3.376E-01\n",
       "  User matrix:                Identity\n",
       "  Has mapper:                 True\n",
       "\n",
       "Property (0x1dcf560fb20)\n",
       "  Ambient:                     0.0\n",
       "  Ambient color:               Color(name='red', hex='#ff0000ff', opacity=255)\n",
       "  Anisotropy:                  0.0\n",
       "  Color:                       Color(name='red', hex='#ff0000ff', opacity=255)\n",
       "  Culling:                     \"none\"\n",
       "  Diffuse:                     1.0\n",
       "  Diffuse color:               Color(name='red', hex='#ff0000ff', opacity=255)\n",
       "  Edge color:                  Color(name='black', hex='#000000ff', opacity=255)\n",
       "  Edge opacity:                1.0\n",
       "  Interpolation:               0\n",
       "  Lighting:                    True\n",
       "  Line width:                  1.0\n",
       "  Metallic:                    0.0\n",
       "  Opacity:                     1.0\n",
       "  Point size:                  5.0\n",
       "  Render lines as tubes:       False\n",
       "  Render points as spheres:    False\n",
       "  Roughness:                   0.5\n",
       "  Show edges:                  False\n",
       "  Specular:                    0.0\n",
       "  Specular color:              Color(name='red', hex='#ff0000ff', opacity=255)\n",
       "  Specular power:              100.0\n",
       "  Style:                       \"Surface\"\n",
       "\n",
       "DataSetMapper (0x1dcf560f7c0)\n",
       "  Scalar visibility:           False\n",
       "  Scalar range:                (0.0, 1.0)\n",
       "  Interpolate before mapping:  True\n",
       "  Scalar map mode:             default\n",
       "  Color mode:                  direct\n",
       "\n",
       "Attached dataset:\n",
       "PolyData (0x1dcf560fb80)\n",
       "  N Cells:    540\n",
       "  N Points:   1116\n",
       "  N Strips:   0\n",
       "  X Bounds:   -3.353e-01, 3.389e-01\n",
       "  Y Bounds:   -8.468e-01, -7.931e-01\n",
       "  Z Bounds:   -3.375e-01, 3.376e-01\n",
       "  N Arrays:   2"
      ]
     },
     "execution_count": 67,
     "metadata": {},
     "output_type": "execute_result"
    }
   ],
   "source": [
    "arrows= calculate_arrows_from_pose_cadidates(pose_cantidates)\n",
    "pl = visualize_pointclouds_simply(optimizer._scan_data)\n",
    "pl.add_arrows(arrows[..., 0:3], arrows[..., 3:6], 0.1, color=\"red\")"
   ]
  },
  {
   "cell_type": "markdown",
   "id": "b4e912cd",
   "metadata": {},
   "source": [
    "# 5. 엔드이펙터 위치 결정(검사)"
   ]
  },
  {
   "cell_type": "code",
   "execution_count": 68,
   "id": "39a93661",
   "metadata": {},
   "outputs": [
    {
     "data": {
      "text/plain": [
       "(2, 3)"
      ]
     },
     "execution_count": 68,
     "metadata": {},
     "output_type": "execute_result"
    }
   ],
   "source": [
    "test = [[1,2,3], [4,5,6]]\n",
    "np.array(test).shape"
   ]
  },
  {
   "cell_type": "code",
   "execution_count": null,
   "id": "08f981f0",
   "metadata": {},
   "outputs": [],
   "source": []
  }
 ],
 "metadata": {
  "kernelspec": {
   "display_name": ".venv (3.10.11)",
   "language": "python",
   "name": "python3"
  },
  "language_info": {
   "codemirror_mode": {
    "name": "ipython",
    "version": 3
   },
   "file_extension": ".py",
   "mimetype": "text/x-python",
   "name": "python",
   "nbconvert_exporter": "python",
   "pygments_lexer": "ipython3",
   "version": "3.10.11"
  }
 },
 "nbformat": 4,
 "nbformat_minor": 5
}
