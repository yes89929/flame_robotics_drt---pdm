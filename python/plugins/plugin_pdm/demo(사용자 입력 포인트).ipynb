{
 "cells": [
  {
   "cell_type": "code",
   "execution_count": null,
   "id": "55c7e19d",
   "metadata": {},
   "outputs": [],
   "source": [
    "%load_ext autoreload\n",
    "%autoreload 2\n",
    "from EndEffectorPoseOptimizer import *\n",
    "from JupyterVisualizer import  *"
   ]
  },
  {
   "cell_type": "code",
   "execution_count": null,
   "id": "dbec94b3",
   "metadata": {},
   "outputs": [],
   "source": [
    "optimizer = EndEffectorPoseOptimizer()"
   ]
  },
  {
   "cell_type": "markdown",
   "id": "9804722f",
   "metadata": {},
   "source": [
    "# 1. 데이터 선택"
   ]
  },
  {
   "cell_type": "markdown",
   "id": "ccc5ea14",
   "metadata": {},
   "source": [
    "### 1.1. 스캔 데이터 선택"
   ]
  },
  {
   "cell_type": "code",
   "execution_count": null,
   "id": "f239f5eb",
   "metadata": {},
   "outputs": [],
   "source": [
    "optimizer.load_scan_data('./data/PIPE NO.1_fill.ply')\n",
    "# optimizer.load_scan_data('./data/PIPE NO.2_fill.ply')\n",
    "# optimizer.load_scan_data('./data/PIPE NO.3_fill.ply')"
   ]
  },
  {
   "cell_type": "markdown",
   "id": "c5db3f46",
   "metadata": {},
   "source": [
    "### 선택된 스캔 데이터 가시화"
   ]
  },
  {
   "cell_type": "code",
   "execution_count": null,
   "id": "6b93be64",
   "metadata": {},
   "outputs": [],
   "source": [
    "visualize_pointclouds_simply(optimizer._scan_data)"
   ]
  },
  {
   "cell_type": "markdown",
   "id": "4f62cab9",
   "metadata": {},
   "source": [
    "### 1.2. 엔드이펙터 로드"
   ]
  },
  {
   "cell_type": "code",
   "execution_count": null,
   "id": "9e593818",
   "metadata": {},
   "outputs": [],
   "source": [
    "optimizer.load_DDA_from_urdf('./data/robot_models v1.5/robots/rb10_1300e_DDA.urdf')\n",
    "dda_mesh = optimizer._EndEffectorPoseOptimizer__dda_mesh # type: ignore\n",
    "optimizer.load_RT_from_urdf('./data/robot_models v1.5/robots/rb10_1300e_RT.urdf')\n",
    "rt_mesh = optimizer._EndEffectorPoseOptimizer__rt_mesh # type: ignore"
   ]
  },
  {
   "cell_type": "code",
   "execution_count": null,
   "id": "46163088",
   "metadata": {},
   "outputs": [],
   "source": [
    "pl = visualize_mesh(dda_mesh, color='blue') # type: ignore\n",
    "add_coordinate_frame(pl, length=0.1, size=0.02)"
   ]
  },
  {
   "cell_type": "code",
   "execution_count": null,
   "id": "e46da5d4",
   "metadata": {},
   "outputs": [],
   "source": [
    "visualize_mesh(rt_mesh, color='blue') # type: ignore"
   ]
  },
  {
   "cell_type": "markdown",
   "id": "cff57d4d",
   "metadata": {},
   "source": [
    "### DDA 가시화"
   ]
  },
  {
   "cell_type": "code",
   "execution_count": null,
   "id": "64efd419",
   "metadata": {},
   "outputs": [],
   "source": []
  },
  {
   "cell_type": "markdown",
   "id": "9af7632e",
   "metadata": {},
   "source": [
    "### RT 가시화"
   ]
  },
  {
   "cell_type": "markdown",
   "id": "c61d4527",
   "metadata": {},
   "source": [
    "# 2. 검사 대상 지점 선택"
   ]
  },
  {
   "cell_type": "markdown",
   "id": "bc08c829",
   "metadata": {},
   "source": [
    "### 2.1. 배관위 한 점 선택"
   ]
  },
  {
   "cell_type": "code",
   "execution_count": null,
   "id": "d3970fc7",
   "metadata": {},
   "outputs": [],
   "source": [
    "pl = visualize_selectable_pointcloud(optimizer._scan_data)"
   ]
  },
  {
   "cell_type": "markdown",
   "id": "d36905a6",
   "metadata": {},
   "source": [
    "### 2.2. 선택된 점 인덱스 저장(수동)"
   ]
  },
  {
   "cell_type": "code",
   "execution_count": null,
   "id": "a9cbc868",
   "metadata": {},
   "outputs": [],
   "source": [
    "target_point_idx = 303135"
   ]
  },
  {
   "cell_type": "markdown",
   "id": "be57a2a0",
   "metadata": {},
   "source": [
    "### 2.3. 검사 대상 점 가시화"
   ]
  },
  {
   "cell_type": "code",
   "execution_count": null,
   "id": "49b2e234",
   "metadata": {},
   "outputs": [],
   "source": [
    "target_point = optimizer._scan_data.points[target_point_idx]"
   ]
  },
  {
   "cell_type": "code",
   "execution_count": null,
   "id": "26d7ae05",
   "metadata": {},
   "outputs": [],
   "source": [
    "pl = visualize_pointclouds_simply(optimizer._scan_data)\n",
    "add_sphere(pl, target_point, radius=0.01, color=\"red\")"
   ]
  },
  {
   "cell_type": "markdown",
   "id": "f400f4d0",
   "metadata": {},
   "source": [
    "# 3. 배관 프로파일 계산"
   ]
  },
  {
   "cell_type": "code",
   "execution_count": null,
   "id": "d15784d4",
   "metadata": {},
   "outputs": [],
   "source": [
    "optimizer.calculate_pipe_profile(target_point) # type: ignore\n",
    "\n",
    "center = optimizer._EndEffectorPoseOptimizer__pipe_center # type: ignore\n",
    "direction = optimizer._EndEffectorPoseOptimizer__pipe_direction # type: ignore\n",
    "radius = optimizer._EndEffectorPoseOptimizer__pipe_radius # type: ignore\n",
    "\n",
    "pl = visualize_pointclouds_simply(optimizer._scan_data)\n",
    "pl.add_arrows(center, direction, 0.1, color=\"red\")\n",
    "add_cylinder(\n",
    "    pl,\n",
    "    center,\n",
    "    direction,\n",
    "    radius + 0.003,\n",
    "    0.05,\n",
    "    \"blue\",\n",
    "    0.3,\n",
    ")"
   ]
  },
  {
   "cell_type": "markdown",
   "id": "9d439a1d",
   "metadata": {},
   "source": [
    "# 4. 엔드이펙터 위치 결정(탐색)"
   ]
  },
  {
   "cell_type": "code",
   "execution_count": null,
   "id": "08ddf06c",
   "metadata": {},
   "outputs": [],
   "source": [
    "dda_tcp_candidates_filtered_json, dda_tcp_pose_candidates_filtered, dda_tcp_pose_candidates = (\n",
    "    optimizer.calculate_DDA_pose_for_detecting_welding_point(\n",
    "        tuple(target_point.tolist()),\n",
    "        8,\n",
    "        0.2,\n",
    "    )\n",
    ")"
   ]
  },
  {
   "cell_type": "markdown",
   "id": "780ddf51",
   "metadata": {},
   "source": [
    "### 위치 후보 가시화(화살표만)"
   ]
  },
  {
   "cell_type": "code",
   "execution_count": null,
   "id": "281c2fa2",
   "metadata": {},
   "outputs": [],
   "source": [
    "arrows= calculate_arrows_from_pose_candidates(dda_tcp_pose_candidates)\n",
    "pl = visualize_pointclouds_simply(optimizer._scan_data)\n",
    "_=pl.add_arrows(arrows[..., 0:3], arrows[..., 3:6], 0.1, color=\"red\")"
   ]
  },
  {
   "cell_type": "code",
   "execution_count": null,
   "id": "a1b3b35d",
   "metadata": {},
   "outputs": [],
   "source": [
    "arrows= calculate_arrows_from_pose_candidates(dda_tcp_pose_candidates)\n",
    "pl = visualize_pointclouds_simply(optimizer._scan_data)\n",
    "_=pl.add_arrows(arrows[..., 0:3], arrows[..., 3:6], 0.1, color=\"red\")\n",
    "\n",
    "for dda_tcp_pose in dda_tcp_pose_candidates:\n",
    "    rot = R.from_euler(\"xyz\", dda_tcp_pose[3:]).as_matrix()\n",
    "    dda_tcp_pose_T = np.eye(4)\n",
    "    dda_tcp_pose_T[:3, :3] = rot\n",
    "    dda_tcp_pose_T[:3,  3] = dda_tcp_pose[:3]\n",
    "\n",
    "    tcp_to_dda = optimizer._EndEffectorPoseOptimizer__dda_invers_transform_mat # type: ignore\n",
    "    dda_pose_T = dda_tcp_pose_T @ tcp_to_dda\n",
    "\n",
    "    add_mesh(pl, dda_mesh, dda_pose_T, color=\"blue\") # type: ignore"
   ]
  },
  {
   "cell_type": "code",
   "execution_count": null,
   "id": "2672dac4",
   "metadata": {},
   "outputs": [],
   "source": [
    "arrows= calculate_arrows_from_pose_candidates(dda_tcp_pose_candidates_filtered)\n",
    "pl = visualize_pointclouds_simply(optimizer._scan_data)\n",
    "_=pl.add_arrows(arrows[..., 0:3], arrows[..., 3:6], 0.1, color=\"red\")\n",
    "\n",
    "for dda_tcp_pose in dda_tcp_pose_candidates_filtered:\n",
    "    rot = R.from_euler(\"xyz\", dda_tcp_pose[3:]).as_matrix()\n",
    "    dda_tcp_pose_T = np.eye(4)\n",
    "    dda_tcp_pose_T[:3, :3] = rot\n",
    "    dda_tcp_pose_T[:3,  3] = dda_tcp_pose[:3]\n",
    "\n",
    "    tcp_to_dda = optimizer._EndEffectorPoseOptimizer__dda_invers_transform_mat # type: ignore\n",
    "    dda_pose_T = dda_tcp_pose_T @ tcp_to_dda\n",
    "\n",
    "    add_mesh(pl, dda_mesh, dda_pose_T, color=\"blue\") # type: ignore"
   ]
  },
  {
   "cell_type": "markdown",
   "id": "b4e912cd",
   "metadata": {},
   "source": [
    "# 5. 엔드이펙터 위치 결정(검사)"
   ]
  },
  {
   "cell_type": "code",
   "execution_count": null,
   "id": "08f981f0",
   "metadata": {},
   "outputs": [],
   "source": [
    "json_str, dda_poses, rt_poses= optimizer.calculate_DDA_RT_pose_for_taking_xray(\n",
    "    target_point,\n",
    "    8,\n",
    "    0.1,\n",
    "    0.3,\n",
    "    10,\n",
    ")\n",
    "dda_poses.shape"
   ]
  },
  {
   "cell_type": "code",
   "execution_count": null,
   "id": "1ea8ce44",
   "metadata": {},
   "outputs": [],
   "source": [
    "IDX = 0\n",
    "\n",
    "arrows = calculate_arrows_from_pose_candidates(np.vstack([dda_poses[IDX], rt_poses[IDX]]))\n",
    "pl = visualize_pointclouds_simply(optimizer._scan_data)\n",
    "_=pl.add_arrows(arrows[..., 0:3], arrows[..., 3:6], 0.05, color=\"red\")\n",
    "\n"
   ]
  }
 ],
 "metadata": {
  "kernelspec": {
   "display_name": ".venv (3.10.11)",
   "language": "python",
   "name": "python3"
  },
  "language_info": {
   "codemirror_mode": {
    "name": "ipython",
    "version": 3
   },
   "file_extension": ".py",
   "mimetype": "text/x-python",
   "name": "python",
   "nbconvert_exporter": "python",
   "pygments_lexer": "ipython3",
   "version": "3.10.11"
  }
 },
 "nbformat": 4,
 "nbformat_minor": 5
}
